{
 "cells": [
  {
   "cell_type": "markdown",
   "metadata": {},
   "source": [
    "# Tests using benchmark datasets\n",
    "\n",
    "Here we provide a walkthrough of running the experimental evaluation using real-world datasets, and visualizing the results.\n",
    "\n",
    "The contents of this notebook are as follows:\n",
    "\n",
    "- <a href=\"#guide\">Guide to running the experiments</a>\n",
    "- <a href=\"#visual\">Processing and visualizing results</a>\n",
    "\n",
    "First we give some details describing how to actually run the tests on your machine. The remainder of the demo aids the user in visualizing the test results after the experiments have actually been run.\n"
   ]
  },
  {
   "cell_type": "markdown",
   "metadata": {},
   "source": [
    "___"
   ]
  },
  {
   "cell_type": "markdown",
   "metadata": {},
   "source": [
    "<a id=\"guide\"></a>\n",
    "## Guide to running the experiments\n",
    "\n",
    "A high-level description of the full procedure involved in running these experiments is given in the README file of this repository. We assume the user has already covered sections \"<a href=\"https://github.com/feedbackward/spectral#setup_init\">Setup: initial software preparation</a>\" and \"<a href=\"https://github.com/feedbackward/spectral#setup_data\">Setup: preparing the benchmark data sets</a>\" from the main README file. As such, all that remains to be done here is to fill in the details related to experiment parameter settings.\n",
    "\n",
    "Essentially, the experiments are run by calling `learn_driver.py` with the appropriate options (experimental parameters). Results are stored automatically with path and filename as follows:\n",
    "\n",
    "```\n",
    "[results_dir]/[data]/[task]-[model]_[algo]-[trial].[descriptor]\n",
    "```\n",
    "\n",
    "Here `results_dir` is the directory for storing results, specified in `setup_results.py`. The `descriptor` depends on the method of evaluation used, all specified in `setup_eval.py`. For example, the 0-1 training loss is `zero_one_train`, and the spectral risk test error under the logistic loss is `logistic_srisk_test`, and so forth. The rest is fairly self-explanatory, though we note that for our experiments, `task` is used to specify the nature of the feedback used by the learning algorithm (discussed further below).\n",
    "\n",
    "### Glossary of experimental parameters\n",
    "\n",
    "- `--algo-ancillary`: specifies the underlying learning algorithm to use (e.g., SGD); call these the *ancillary iterates*.\n",
    "- `--algo-main`: lets us specify an additional procedure to operate on the ancillary iterates (e.g., do nothing or average SGD iterates, etc.); call these the *main iterates*.\n",
    "- `--batch-size`: size of mini-batch to use.\n",
    "- `--cdf-size`: amount of ancillary data to be used for CDF estimation.\n",
    "- `--data`: the name of the data set to be used.\n",
    "- `--entropy`: used to ensure consistency across methods.\n",
    "- `--fast`: if this flag is used under the spectral risk, then following the naming in our paper, `fast` will be run instead of `default`.\n",
    "- `--loss`: the name of the loss function to be used.\n",
    "- `--model`: the name of the model to be used.\n",
    "- `--no-srisk`: if this flag is used, then it tells the learning algorithm to treat the losses as-is, rather than use our \"srisk\" (spectral risk) loss wrappers. This amounts to traditional ERM; if this flag is active, the flag `--fast` has no effect.\n",
    "- `--num-epochs`: the number of passes to make over the training data.\n",
    "- `--num-trials`: the number of randomized trials to be run.\n",
    "- `--step-size`: global step-size coefficient (multiplies the step-size computed internally by algorithms).\n",
    "- `--task-name`: mostly for clerical purposes, when we want to distinguish results for different setups (typically different settings of the flags `--fast` and `--no-srisk`).\n",
    "\n",
    "\n",
    "### Detailed parameter settings\n",
    "\n",
    "The experiments given in our paper (2021/05 arXiv version) are computed using the following experimental parameter settings:\n",
    "\n",
    "- `--algo-ancillary`: `\"SGD\"`.\n",
    "- `--algo-main`: `\"Ave\"`.\n",
    "- `--batch-size`: `\"8\"`\n",
    "- `--cdf-size`: `\"250\"`\n",
    "- `--data`: (see dataset names listed in the paper).\n",
    "- `--loss`: `\"logistic\"`.\n",
    "- `--model`: `\"linreg_multi\"`.\n",
    "- `--num-epochs`: `\"50\"`.\n",
    "- `--num-trials`: `\"10\"`.\n",
    "- `--step-size`: `\"1.0\"`.\n",
    "- `--task-name`: `\"off\"` (uses `--no-srisk` flag only), `\"default\"` (no flags used), `\"fast\"` (uses `--fast` flag only).\n",
    "\n",
    "\n",
    "### Execution\n",
    "\n",
    "If the shell script `learn_run.sh` has been appropriately modified to reflect any of the above settings, then running the experiments is a one-line operation:\n",
    "\n",
    "```\n",
    "(spectral) $ bash learn_run.sh\n",
    "```\n",
    "\n",
    "If you would rather not do these all manually, feel free to use our `remote_*.sh` scripts for convenience.\n",
    "\n",
    "Once the tests have been run, a collection of raw experimental results should be written to disk. The following section covers the tasks of processing and visualizing these results.\n"
   ]
  },
  {
   "cell_type": "markdown",
   "metadata": {},
   "source": [
    "___"
   ]
  },
  {
   "cell_type": "markdown",
   "metadata": {},
   "source": [
    "<a id=\"visual\"></a>\n",
    "## Processing and visualizing results"
   ]
  },
  {
   "cell_type": "code",
   "execution_count": 1,
   "metadata": {},
   "outputs": [],
   "source": [
    "## External modules.\n",
    "from contextlib import ExitStack\n",
    "import json\n",
    "from matplotlib import cm\n",
    "import matplotlib.pyplot as plt\n",
    "from matplotlib.ticker import MaxNLocator, MultipleLocator\n",
    "import numpy as np\n",
    "import os\n",
    "\n",
    "## Internal modules.\n",
    "from mml.utils import makedir_safe\n",
    "from setup_data import dataset_paras\n",
    "from setup_results import img_dir, results_dir, my_fontsize, my_ext, export_legend\n"
   ]
  },
  {
   "cell_type": "code",
   "execution_count": 2,
   "metadata": {},
   "outputs": [],
   "source": [
    "## Parameters to be set by the user.\n",
    "data = \"adult\" # specify dataset name\n",
    "model = \"linreg_multi\" # specify model name\n",
    "eval_type = \"logistic_srisk\" # specify evaluation metric (logistic_srisk, zero_one, etc.)"
   ]
  },
  {
   "cell_type": "code",
   "execution_count": 3,
   "metadata": {},
   "outputs": [],
   "source": [
    "## Helper function definition.\n",
    "def agg_fn_all(arr, agg_type):\n",
    "    if agg_type == \"mean\":\n",
    "        return np.mean(arr, axis=0)\n",
    "    elif agg_type == \"sd\":\n",
    "        return np.std(arr, axis=0)\n",
    "    else:\n",
    "        raise ValueError"
   ]
  },
  {
   "cell_type": "code",
   "execution_count": 4,
   "metadata": {},
   "outputs": [],
   "source": [
    "## Automated clerical setup.\n",
    "eval_train = eval_type+\"_train\"\n",
    "eval_test = eval_type+\"_test\"\n",
    "\n",
    "## Directory setup.\n",
    "toread_dir = os.path.join(results_dir, data)\n",
    "towrite_dir = os.path.join(img_dir)\n",
    "makedir_safe(towrite_dir)\n",
    "\n",
    "## Colour setup.\n",
    "mth_cmap = cm.get_cmap(\"Set1\")\n",
    "mth_colours = []\n",
    "for i in range(9):\n",
    "    mth_colours += [mth_cmap.colors[i]]\n"
   ]
  },
  {
   "cell_type": "code",
   "execution_count": 5,
   "metadata": {},
   "outputs": [],
   "source": [
    "## Set how we aggregate over trials.\n",
    "agg_mean = lambda array: agg_fn_all(arr=array, agg_type=\"mean\")\n",
    "agg_sd = lambda array: agg_fn_all(arr=array, agg_type=\"sd\")"
   ]
  },
  {
   "cell_type": "code",
   "execution_count": 6,
   "metadata": {
    "scrolled": true
   },
   "outputs": [
    {
     "name": "stdout",
     "output_type": "stream",
     "text": [
      "Unique names found: ['default-linreg_multi_SGD_Ave' 'fast-linreg_multi_SGD_Ave'\n",
      " 'off-linreg_multi_SGD_Ave']\n"
     ]
    }
   ],
   "source": [
    "## A few lines of code to extract all the method names.\n",
    "all_files = os.listdir(toread_dir)\n",
    "names_raw = []\n",
    "for s in all_files:\n",
    "    split_hyphen = s.split(\"-\")\n",
    "    split_dot = s.split(\".\")\n",
    "    if split_dot[-1] != \"json\":\n",
    "        names_raw += [\"-\".join(split_hyphen[0:-1])]\n",
    "names_raw = np.array(names_raw)\n",
    "names_unique = np.unique(names_raw)\n",
    "print(\"Unique names found:\", names_unique)"
   ]
  },
  {
   "cell_type": "code",
   "execution_count": 7,
   "metadata": {},
   "outputs": [],
   "source": [
    "to_plot_names = { s: s.split(\"-\")[0] for s in names_unique}\n",
    "to_plot = [s for s in to_plot_names.keys()]\n",
    "to_plot_colours = {a: mth_colours[j] for j, a in enumerate(to_plot)}"
   ]
  },
  {
   "cell_type": "code",
   "execution_count": 8,
   "metadata": {},
   "outputs": [
    {
     "name": "stdout",
     "output_type": "stream",
     "text": [
      "(default-linreg_multi_SGD_Ave) Finished collecting training results.\n",
      "(default-linreg_multi_SGD_Ave) Finished collecting test results.\n",
      "(fast-linreg_multi_SGD_Ave) Finished collecting training results.\n",
      "(fast-linreg_multi_SGD_Ave) Finished collecting test results.\n",
      "(off-linreg_multi_SGD_Ave) Finished collecting training results.\n",
      "(off-linreg_multi_SGD_Ave) Finished collecting test results.\n"
     ]
    }
   ],
   "source": [
    "## Gathering of results.\n",
    "dict_train = {a: [] for a in to_plot}\n",
    "dict_test = {a: [] for a in to_plot}\n",
    "\n",
    "for mth_name in to_plot:\n",
    "    \n",
    "    trial = 0\n",
    "    do_gathering = True\n",
    "    \n",
    "    while do_gathering:\n",
    "        \n",
    "        toread_train = os.path.join(\n",
    "            toread_dir, \".\".join([mth_name+\"-\"+str(trial), eval_train])\n",
    "        )\n",
    "        toread_test = os.path.join(\n",
    "            toread_dir, \".\".join([mth_name+\"-\"+str(trial), eval_test])\n",
    "        )\n",
    "        \n",
    "        with ExitStack() as stack:\n",
    "            \n",
    "            try:\n",
    "                f_train = stack.enter_context(open(toread_train, mode=\"r\", encoding=\"ascii\"))\n",
    "                yvals = np.loadtxt(fname=f_train, dtype=float,\n",
    "                                   delimiter=\",\", ndmin=2)\n",
    "                dict_train[mth_name] += [yvals]\n",
    "            except FileNotFoundError:\n",
    "                do_gathering = False\n",
    "                print(\"({}) Finished collecting training results.\".format(mth_name))\n",
    "                \n",
    "            try:\n",
    "                f_test = stack.enter_context(open(toread_test, mode=\"r\", encoding=\"ascii\"))\n",
    "                yvals = np.loadtxt(fname=f_test, dtype=float,\n",
    "                                   delimiter=\",\", ndmin=2)\n",
    "                dict_test[mth_name] += [yvals]\n",
    "            except FileNotFoundError:\n",
    "                print(\"({}) Finished collecting test results.\".format(mth_name))\n",
    "        \n",
    "        ## If the current trial went through, increment to try the next one.\n",
    "        if do_gathering:\n",
    "            trial += 1\n",
    "            \n",
    "dict_train = {a:np.hstack(dict_train[a]).T for a in dict_train.keys()}\n",
    "dict_test = {a:np.hstack(dict_test[a]).T for a in dict_test.keys()}"
   ]
  },
  {
   "cell_type": "code",
   "execution_count": 9,
   "metadata": {
    "scrolled": false
   },
   "outputs": [
    {
     "data": {
      "image/png": "[encoded data removed]",
      "text/plain": [
       "<Figure size 288x252 with 1 Axes>"
      ]
     },
     "metadata": {
      "needs_background": "light"
     },
     "output_type": "display_data"
    }
   ],
   "source": [
    "## Visualization of results.\n",
    "\n",
    "fig, ax = plt.subplots(1, 1, figsize=(4,3.5)) # nice for putting in paper.\n",
    "#fig, ax = plt.subplots(1, 1, figsize=(7,6)) # nice for viewing in notebook.\n",
    "\n",
    "for j, mth_name in enumerate(dict_train.keys()):\n",
    "    yval_array = dict_train[mth_name]\n",
    "    num_trials, num_epochs = yval_array.shape\n",
    "    xvals = np.arange(num_epochs)\n",
    "    yvals = agg_mean(yval_array)\n",
    "    yvals_err = agg_sd(yval_array)\n",
    "    ax.plot(xvals, yvals,\n",
    "            color=to_plot_colours[mth_name],\n",
    "            label=\"{} tr\".format(to_plot_names[mth_name]),\n",
    "            ls=\"--\")\n",
    "    #ax.fill_between(x=xvals, y1=yvals-yvals_err, y2=yvals+yvals_err,\n",
    "    #                alpha=0.2, color=to_plot_colours[mth_name], lw=0)\n",
    "\n",
    "for j, mth_name in enumerate(dict_test.keys()):\n",
    "    yval_array = dict_test[mth_name]\n",
    "    num_trials, num_epochs = yval_array.shape\n",
    "    xvals = np.arange(num_epochs)\n",
    "    yvals = agg_mean(yval_array)\n",
    "    yvals_err = agg_sd(yval_array)\n",
    "    ax.plot(xvals, yvals,\n",
    "            color=to_plot_colours[mth_name],\n",
    "            label=\"{} te\".format(to_plot_names[mth_name]),\n",
    "            ls=\"-\")\n",
    "    ax.fill_between(x=xvals, y1=yvals-yvals_err, y2=yvals+yvals_err,\n",
    "                    alpha=0.2, color=to_plot_colours[mth_name], lw=0)\n",
    "\n",
    "ax.tick_params(labelsize=my_fontsize)\n",
    "#ax.legend(loc=0, ncol=2, fontsize=my_fontsize)\n",
    "ax.set_title(\"{}\".format(data),\n",
    "             size=my_fontsize)\n",
    "fname = os.path.join(towrite_dir, \"{}_{}.{}\".format(data, eval_type, my_ext))\n",
    "ax.xaxis.set_major_locator(MultipleLocator(10))\n",
    "#ax.yaxis.set_major_formatter(\"{x:.1f}\")\n",
    "#ax.yaxis.set_major_locator(MaxNLocator(5))\n",
    "ax.yaxis.grid(linestyle=\"--\")\n",
    "plt.tight_layout()\n",
    "plt.savefig(fname=fname)\n",
    "plt.show()"
   ]
  },
  {
   "cell_type": "code",
   "execution_count": 10,
   "metadata": {},
   "outputs": [
    {
     "data": {
      "image/png": "[encoded data removed]",
      "text/plain": [
       "<Figure size 432x288 with 1 Axes>"
      ]
     },
     "metadata": {
      "needs_background": "light"
     },
     "output_type": "display_data"
    }
   ],
   "source": [
    "## Legends.\n",
    "\n",
    "labels = [to_plot_names[a]+\" (train)\" for a in to_plot] + [to_plot_names[a]+\" (test)\" for a in to_plot]\n",
    "colours = [to_plot_colours[a] for a in to_plot] + [to_plot_colours[a] for a in to_plot]\n",
    "linestyles = [\"--\"]*len(to_plot_names) + [\"-\"]*len(to_plot_names)\n",
    "\n",
    "f = lambda m,c,l: plt.plot([],[],marker=m, color=c, ls=l)[0]\n",
    "handles = [f(None, colours[i], linestyles[i]) for i in range(len(labels))]\n",
    "legend = plt.legend(handles, labels, loc=3, ncol=2, framealpha=1, frameon=True)\n",
    "fname = os.path.join(towrite_dir, \"legend.{}\".format(my_ext))\n",
    "export_legend(legend=legend, filename=fname)\n",
    "plt.show()"
   ]
  },
  {
   "cell_type": "markdown",
   "metadata": {},
   "source": [
    "___"
   ]
  }
 ],
 "metadata": {
  "kernelspec": {
   "display_name": "Python 3",
   "language": "python",
   "name": "python3"
  },
  "language_info": {
   "codemirror_mode": {
    "name": "ipython",
    "version": 3
   },
   "file_extension": ".py",
   "mimetype": "text/x-python",
   "name": "python",
   "nbconvert_exporter": "python",
   "pygments_lexer": "ipython3",
   "version": "3.9.4"
  }
 },
 "nbformat": 4,
 "nbformat_minor": 4
}
